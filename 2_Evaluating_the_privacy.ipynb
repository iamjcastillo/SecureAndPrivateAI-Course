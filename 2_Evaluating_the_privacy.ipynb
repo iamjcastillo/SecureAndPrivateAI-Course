{
  "nbformat": 4,
  "nbformat_minor": 0,
  "metadata": {
    "colab": {
      "name": "2. Evaluating the privacy.ipynb",
      "version": "0.3.2",
      "provenance": []
    },
    "kernelspec": {
      "name": "python3",
      "display_name": "Python 3"
    }
  },
  "cells": [
    {
      "cell_type": "markdown",
      "metadata": {
        "id": "yGJNVUcz6q1p",
        "colab_type": "text"
      },
      "source": [
        "## **2. Evaluating the privacy**"
      ]
    },
    {
      "cell_type": "markdown",
      "metadata": {
        "id": "jtJOHjj_6tq3",
        "colab_type": "text"
      },
      "source": [
        "Developed during the second lesson"
      ]
    },
    {
      "cell_type": "markdown",
      "metadata": {
        "id": "z9Nu2vfD7EA6",
        "colab_type": "text"
      },
      "source": [
        "### **Sensitivity function**"
      ]
    },
    {
      "cell_type": "markdown",
      "metadata": {
        "id": "pcAM0VFJ76E0",
        "colab_type": "text"
      },
      "source": [
        "Sensitivity: maximum amount that the query changes when removing an individual from the database.\n",
        "\n",
        "We created a database full of ones and zeros, so if we remove only one element the maximun difference must be 1."
      ]
    },
    {
      "cell_type": "code",
      "metadata": {
        "id": "fdGhO6x--OvV",
        "colab_type": "code",
        "colab": {}
      },
      "source": [
        "def query(db):\n",
        "  return db.sum()"
      ],
      "execution_count": 0,
      "outputs": []
    },
    {
      "cell_type": "code",
      "metadata": {
        "id": "-_hL312Z7GLQ",
        "colab_type": "code",
        "colab": {}
      },
      "source": [
        "def sensitivity(query, num_entries = 1000):\n",
        "  max_distance = 0\n",
        "  \n",
        "  db, pdbs = create_db_and_parallels(num_entries)\n",
        "  \n",
        "  full_db_result = query(db)\n",
        "  \n",
        "  for pdb in pdbs:\n",
        "    pdb_result = query(pdb)\n",
        "   \n",
        "    db_distance = torch.abs(pdb_result - full_db_result)  \n",
        "   \n",
        "    if (db_distance > max_distance):\n",
        "      max_distance = db_distance\n",
        "  \n",
        "  return max_distance"
      ],
      "execution_count": 0,
      "outputs": []
    },
    {
      "cell_type": "code",
      "metadata": {
        "id": "eQBsYywe-XF8",
        "colab_type": "code",
        "outputId": "47f6277b-ab67-4942-e811-a3cfa048cae8",
        "colab": {
          "base_uri": "https://localhost:8080/"
        }
      },
      "source": [
        "sensitivity(query)"
      ],
      "execution_count": 0,
      "outputs": [
        {
          "output_type": "execute_result",
          "data": {
            "text/plain": [
              "tensor(1)"
            ]
          },
          "metadata": {
            "tags": []
          },
          "execution_count": 15
        }
      ]
    },
    {
      "cell_type": "markdown",
      "metadata": {
        "id": "fRPQQBZJ_9-H",
        "colab_type": "text"
      },
      "source": [
        "### **L1 Sensitivity for threshold**"
      ]
    },
    {
      "cell_type": "markdown",
      "metadata": {
        "id": "KalXm6UlAl7C",
        "colab_type": "text"
      },
      "source": [
        "Here we'll follow the next steps:\n",
        " \n",
        "*   Create the query function\n",
        "*   Create 10 db of size 10\n",
        "*   Query each db with a threshold of 5\n",
        "*   Print the sensitivity \n",
        "\n"
      ]
    },
    {
      "cell_type": "code",
      "metadata": {
        "id": "IaqKPOdY_9an",
        "colab_type": "code",
        "colab": {}
      },
      "source": [
        "def query(db, threshold = 5):\n",
        "  return (db.sum() > threshold).float()"
      ],
      "execution_count": 0,
      "outputs": []
    },
    {
      "cell_type": "code",
      "metadata": {
        "id": "aF9SgjHyBMpN",
        "colab_type": "code",
        "outputId": "d382d7e2-04b5-41d4-9400-614de9003a28",
        "colab": {
          "base_uri": "https://localhost:8080/"
        }
      },
      "source": [
        "for i in range(10):\n",
        "  print(sensitivity(query, num_entries=10))"
      ],
      "execution_count": 0,
      "outputs": [
        {
          "output_type": "stream",
          "text": [
            "0\n",
            "tensor(1.)\n",
            "0\n",
            "0\n",
            "0\n",
            "0\n",
            "0\n",
            "tensor(1.)\n",
            "0\n",
            "0\n"
          ],
          "name": "stdout"
        }
      ]
    },
    {
      "cell_type": "markdown",
      "metadata": {
        "id": "j3HMlb28EjUl",
        "colab_type": "text"
      },
      "source": [
        "### **Performing a Diffferencing Attack on row 10**"
      ]
    },
    {
      "cell_type": "markdown",
      "metadata": {
        "id": "55z3_ot3EpD6",
        "colab_type": "text"
      },
      "source": [
        "The goal of this section is to obtain row 10 value. For that, we'll do two queries (one computing the 10th row and another without). Then we'll compare them."
      ]
    },
    {
      "cell_type": "code",
      "metadata": {
        "id": "964eaP8AFL8j",
        "colab_type": "code",
        "colab": {}
      },
      "source": [
        "db, _ = create_db_and_parallels(100)"
      ],
      "execution_count": 0,
      "outputs": []
    },
    {
      "cell_type": "code",
      "metadata": {
        "id": "iuHwB9i9FYWa",
        "colab_type": "code",
        "colab": {}
      },
      "source": [
        "pdb = get_parallel_db(db, remove_index=10) # db without row10"
      ],
      "execution_count": 0,
      "outputs": []
    },
    {
      "cell_type": "code",
      "metadata": {
        "id": "41c_E94pFuFg",
        "colab_type": "code",
        "outputId": "290adfb5-ea4e-4bfa-9ce8-a20bba5ecc6f",
        "colab": {
          "base_uri": "https://localhost:8080/"
        }
      },
      "source": [
        "db[10] # value we're trying to find"
      ],
      "execution_count": 0,
      "outputs": [
        {
          "output_type": "execute_result",
          "data": {
            "text/plain": [
              "tensor(0, dtype=torch.uint8)"
            ]
          },
          "metadata": {
            "tags": []
          },
          "execution_count": 20
        }
      ]
    },
    {
      "cell_type": "code",
      "metadata": {
        "id": "0XY-8lm3Fvvf",
        "colab_type": "code",
        "outputId": "68b68006-309d-4e88-ce83-3d453e6f9d05",
        "colab": {
          "base_uri": "https://localhost:8080/"
        }
      },
      "source": [
        "# differencing attack using sum query\n",
        "\n",
        "sum(db)-sum(pdb)"
      ],
      "execution_count": 0,
      "outputs": [
        {
          "output_type": "execute_result",
          "data": {
            "text/plain": [
              "tensor(0, dtype=torch.uint8)"
            ]
          },
          "metadata": {
            "tags": []
          },
          "execution_count": 21
        }
      ]
    },
    {
      "cell_type": "code",
      "metadata": {
        "id": "bZYrV23YF8oE",
        "colab_type": "code",
        "outputId": "6eb8f765-6503-4ae3-ce2a-549bc1d12be4",
        "colab": {
          "base_uri": "https://localhost:8080/"
        }
      },
      "source": [
        "# differencing attack using mean query\n",
        "\n",
        "(sum(db).float()/len(db)) - (sum(pdb).float()/len(pdb))"
      ],
      "execution_count": 0,
      "outputs": [
        {
          "output_type": "execute_result",
          "data": {
            "text/plain": [
              "tensor(-0.0057)"
            ]
          },
          "metadata": {
            "tags": []
          },
          "execution_count": 22
        }
      ]
    },
    {
      "cell_type": "code",
      "metadata": {
        "id": "M4z6nGL5G8H-",
        "colab_type": "code",
        "outputId": "069c1782-346d-4129-c427-260dd9351689",
        "colab": {
          "base_uri": "https://localhost:8080/"
        }
      },
      "source": [
        "sum(db)"
      ],
      "execution_count": 0,
      "outputs": [
        {
          "output_type": "execute_result",
          "data": {
            "text/plain": [
              "tensor(56, dtype=torch.uint8)"
            ]
          },
          "metadata": {
            "tags": []
          },
          "execution_count": 23
        }
      ]
    },
    {
      "cell_type": "code",
      "metadata": {
        "id": "qEVZI2knGiQ3",
        "colab_type": "code",
        "outputId": "146e2a01-7914-48b9-e120-598a7a201923",
        "colab": {
          "base_uri": "https://localhost:8080/"
        }
      },
      "source": [
        "# differencing attack using threshold query\n",
        "\n",
        "(sum(db).float() > 48) - (sum(pdb).float() > 48)"
      ],
      "execution_count": 0,
      "outputs": [
        {
          "output_type": "execute_result",
          "data": {
            "text/plain": [
              "tensor(0, dtype=torch.uint8)"
            ]
          },
          "metadata": {
            "tags": []
          },
          "execution_count": 24
        }
      ]
    }
  ]
}