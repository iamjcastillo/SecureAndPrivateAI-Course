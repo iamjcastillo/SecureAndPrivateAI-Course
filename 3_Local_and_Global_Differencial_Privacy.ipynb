{
  "nbformat": 4,
  "nbformat_minor": 0,
  "metadata": {
    "colab": {
      "name": "3. Local and Global Differencial Privacy.ipynb",
      "version": "0.3.2",
      "provenance": []
    },
    "kernelspec": {
      "name": "python3",
      "display_name": "Python 3"
    }
  },
  "cells": [
    {
      "cell_type": "markdown",
      "metadata": {
        "id": "TOBIXfcxH-3K",
        "colab_type": "text"
      },
      "source": [
        "## **3. Local and Global Differencial Privacy**"
      ]
    },
    {
      "cell_type": "markdown",
      "metadata": {
        "id": "psIksBSAM1QK",
        "colab_type": "text"
      },
      "source": [
        "### **Implementing Local Differential Privacy**"
      ]
    },
    {
      "cell_type": "markdown",
      "metadata": {
        "id": "ZWid6jXRTwFJ",
        "colab_type": "text"
      },
      "source": [
        "Let's picture the following situation. We have a group of people we want to suvey about a negative behaviour (let's say that is if they have stolen something). Of course some might refuse to answer.\n",
        "\n",
        "Well, by using the next steps, we are able to protect the privacy of our subjects.\n",
        "*   flip a coin 2 times\n",
        "*   if the first coin flip is heads ,tell the truth\n",
        "*   if it doesn't, answer according the second coind (yes for heads, no for tails)\n",
        "\n",
        "Now, we a person answers, we have no way to tell if their answer is true or if it comes from the second coin (therefore we protect their privacy).\n",
        "\n",
        "On top of that, we now that wathever the probability of stealing is, we're averaging it with a 50% prob. from the coins. This means that if the prob we have after our survey is 60%, the we now the real prob is 70%, because the averaging 70 and 50 we have 60.\n",
        "\n",
        "However, the protection of our users has it costs. The greater privacy protection, the less accurate the results."
      ]
    },
    {
      "cell_type": "code",
      "metadata": {
        "id": "13MVV6SbQ5Nu",
        "colab_type": "code",
        "colab": {}
      },
      "source": [
        "def query(db):\n",
        "  true_result = torch.mean(db.float())\n",
        "  \n",
        "  first_coin_flip = (torch.rand(len(db)) > 0.5).float()\n",
        "  second_coin_flip = (torch.rand(len(db)) > 0.5).float()\n",
        "  \n",
        "  augmented_database = db.float() * first_coin_flip + (1 - first_coin_flip) * second_coin_flip\n",
        "  \n",
        "  db_result = torch.mean(augmented_database.float()) * 2 - 0.5\n",
        "  \n",
        "  return db_result, true_result"
      ],
      "execution_count": 0,
      "outputs": []
    },
    {
      "cell_type": "markdown",
      "metadata": {
        "id": "uBjS5n1gTaxi",
        "colab_type": "text"
      },
      "source": [
        "Let's see how this noise affect our db depending on the number of entries it has."
      ]
    },
    {
      "cell_type": "code",
      "metadata": {
        "id": "bLqtpDLROo8L",
        "colab_type": "code",
        "outputId": "8327416c-a0d8-444f-e91a-60c21e255a6c",
        "colab": {
          "base_uri": "https://localhost:8080/"
        }
      },
      "source": [
        "db, pdbs = create_db_and_parallels(10)\n",
        "priv_res , true_res = query(db)\n",
        "print(\"With noise: \" + str(priv_res))\n",
        "print(\"Without noise: \" + str(true_res))"
      ],
      "execution_count": 0,
      "outputs": [
        {
          "output_type": "stream",
          "text": [
            "With noise: tensor(0.7000)\n",
            "Without noise: tensor(0.5000)\n"
          ],
          "name": "stdout"
        }
      ]
    },
    {
      "cell_type": "code",
      "metadata": {
        "id": "mMp-_CtiSqD6",
        "colab_type": "code",
        "outputId": "4f03bd53-c1f3-41be-bb73-a7d3a91af5c5",
        "colab": {
          "base_uri": "https://localhost:8080/"
        }
      },
      "source": [
        "db, pdbs = create_db_and_parallels(100)\n",
        "priv_res , true_res = query(db)\n",
        "print(\"With noise: \" + str(priv_res))\n",
        "print(\"Without noise: \" + str(true_res))"
      ],
      "execution_count": 0,
      "outputs": [
        {
          "output_type": "stream",
          "text": [
            "With noise: tensor(0.4600)\n",
            "Without noise: tensor(0.4700)\n"
          ],
          "name": "stdout"
        }
      ]
    },
    {
      "cell_type": "code",
      "metadata": {
        "id": "JWC43BY6R6px",
        "colab_type": "code",
        "outputId": "9c7555d0-b377-441b-f5ff-7fc4b6a24e4d",
        "colab": {
          "base_uri": "https://localhost:8080/"
        }
      },
      "source": [
        "db, pdbs = create_db_and_parallels(100000)\n",
        "priv_res , true_res = query(db)\n",
        "print(\"With noise: \" + str(priv_res))\n",
        "print(\"Without noise: \" + str(true_res))"
      ],
      "execution_count": 0,
      "outputs": [
        {
          "output_type": "stream",
          "text": [
            "With noise: tensor(0.5013)\n",
            "Without noise: tensor(0.4991)\n"
          ],
          "name": "stdout"
        }
      ]
    },
    {
      "cell_type": "markdown",
      "metadata": {
        "id": "Ef0mM31IS8os",
        "colab_type": "text"
      },
      "source": [
        "When we add noise, we are corrupting our dataset. Howhever, the more datapoints we have, the more this noise will tend to average out."
      ]
    },
    {
      "cell_type": "markdown",
      "metadata": {
        "id": "HgO1TpRFWOms",
        "colab_type": "text"
      },
      "source": [
        "### **Varying the amount of noise**"
      ]
    },
    {
      "cell_type": "markdown",
      "metadata": {
        "id": "EGIPzJKFWsAL",
        "colab_type": "text"
      },
      "source": [
        "Now, we'll modify our query function to vary the chances of the first coin."
      ]
    },
    {
      "cell_type": "code",
      "metadata": {
        "id": "8xq4vbrhSs0t",
        "colab_type": "code",
        "colab": {}
      },
      "source": [
        "def query(db, percent):\n",
        "  true_result = torch.mean(db.float())\n",
        "  \n",
        "  first_coin_flip = (torch.rand(len(db)) > percent).float()\n",
        "  second_coin_flip = (torch.rand(len(db)) > 0.5).float()\n",
        "  \n",
        "  augmented_database = db.float() * first_coin_flip + (1 - first_coin_flip) * second_coin_flip\n",
        "  \n",
        "  sk_result = augmented_database.float().mean()\n",
        "  \n",
        "  db_result = ((sk_result/percent)-0.5)*percent/(1-percent)\n",
        "  \n",
        "  return db_result, true_result"
      ],
      "execution_count": 0,
      "outputs": []
    },
    {
      "cell_type": "code",
      "metadata": {
        "colab_type": "code",
        "outputId": "1de02212-4eb9-4e0b-8e24-1cc5c86f9ef3",
        "id": "itJ_AyYnW6xL",
        "colab": {
          "base_uri": "https://localhost:8080/"
        }
      },
      "source": [
        "db, pdbs = create_db_and_parallels(100)\n",
        "priv_res , true_res = query(db, 0.2)\n",
        "print(\"With noise: \" + str(priv_res))\n",
        "print(\"Without noise: \" + str(true_res))"
      ],
      "execution_count": 0,
      "outputs": [
        {
          "output_type": "stream",
          "text": [
            "With noise: tensor(0.5875)\n",
            "Without noise: tensor(0.5500)\n"
          ],
          "name": "stdout"
        }
      ]
    },
    {
      "cell_type": "code",
      "metadata": {
        "colab_type": "code",
        "outputId": "0586fd6c-05db-4a90-da0f-ed693287a0fb",
        "id": "ciAcwcTzZ3y3",
        "colab": {
          "base_uri": "https://localhost:8080/"
        }
      },
      "source": [
        "db, pdbs = create_db_and_parallels(100)\n",
        "priv_res , true_res = query(db,0.7)\n",
        "print(\"With noise: \" + str(priv_res))\n",
        "print(\"Without noise: \" + str(true_res))"
      ],
      "execution_count": 0,
      "outputs": [
        {
          "output_type": "stream",
          "text": [
            "With noise: tensor(0.5000)\n",
            "Without noise: tensor(0.5300)\n"
          ],
          "name": "stdout"
        }
      ]
    },
    {
      "cell_type": "markdown",
      "metadata": {
        "id": "iPkacJmG_ZeF",
        "colab_type": "text"
      },
      "source": [
        "### **Global Differentially Privacy** "
      ]
    },
    {
      "cell_type": "markdown",
      "metadata": {
        "id": "xzwFRU6TAymU",
        "colab_type": "text"
      },
      "source": [
        "The amount of noise we need to add to the output of a query depends on:\n",
        "*   the type of noise (Gaussian/Laplacian)\n",
        "*   the sensitivity of the query/function\n",
        "*   the desired epsilon\n",
        "*   the desired delta\n",
        "\n",
        "For Laplacian noisse, delta is always 0 and we can choose the amount of noise using:\n",
        "\n",
        "\n",
        "b = sensitivity(query)/epsilon"
      ]
    },
    {
      "cell_type": "code",
      "metadata": {
        "id": "r6na8ou_CUv_",
        "colab_type": "code",
        "colab": {}
      },
      "source": [
        "epsilon = 0.5 "
      ],
      "execution_count": 0,
      "outputs": []
    },
    {
      "cell_type": "markdown",
      "metadata": {
        "id": "6H9IXV85Ff0F",
        "colab_type": "text"
      },
      "source": [
        "The smaller we make this number (*epsilon*), the less information we're allowing to leak. This means we'll add more noise to our results."
      ]
    },
    {
      "cell_type": "code",
      "metadata": {
        "id": "_YXdfh0ACY2V",
        "colab_type": "code",
        "colab": {}
      },
      "source": [
        "import numpy as np"
      ],
      "execution_count": 0,
      "outputs": []
    },
    {
      "cell_type": "code",
      "metadata": {
        "id": "JIq7IHUQCb_W",
        "colab_type": "code",
        "colab": {}
      },
      "source": [
        "db, pdbs = create_db_and_parallels(100)"
      ],
      "execution_count": 0,
      "outputs": []
    },
    {
      "cell_type": "markdown",
      "metadata": {
        "id": "FZYL8HFVEGl9",
        "colab_type": "text"
      },
      "source": [
        "First, we'll do it for a sum query"
      ]
    },
    {
      "cell_type": "code",
      "metadata": {
        "id": "oEsOExeXZZjN",
        "colab_type": "code",
        "colab": {}
      },
      "source": [
        "def sum_query(db):\n",
        "  return db.sum()"
      ],
      "execution_count": 0,
      "outputs": []
    },
    {
      "cell_type": "code",
      "metadata": {
        "id": "aInhueivC8HS",
        "colab_type": "code",
        "colab": {}
      },
      "source": [
        "def laplacian_mechanism(db, query, sensitivity):\n",
        "  \n",
        "  beta = sensitivity/epsilon\n",
        "  noise = torch.tensor(np.random.laplace(0, beta, 1))\n",
        "  \n",
        "  return query(db)+noise"
      ],
      "execution_count": 0,
      "outputs": []
    },
    {
      "cell_type": "code",
      "metadata": {
        "id": "znBV_POoDfN9",
        "colab_type": "code",
        "outputId": "e7a37bd3-6332-4653-a9f2-d63c871dca71",
        "colab": {
          "base_uri": "https://localhost:8080/"
        }
      },
      "source": [
        "laplacian_mechanism(db, sum_query, 1)"
      ],
      "execution_count": 0,
      "outputs": [
        {
          "output_type": "execute_result",
          "data": {
            "text/plain": [
              "tensor([42.0475], dtype=torch.float64)"
            ]
          },
          "metadata": {
            "tags": []
          },
          "execution_count": 37
        }
      ]
    },
    {
      "cell_type": "code",
      "metadata": {
        "id": "op07FuPdDxO5",
        "colab_type": "code",
        "outputId": "24ddd123-cd81-44d4-88ed-454cb91794f1",
        "colab": {
          "base_uri": "https://localhost:8080/"
        }
      },
      "source": [
        "sum(db)  # real query"
      ],
      "execution_count": 0,
      "outputs": [
        {
          "output_type": "execute_result",
          "data": {
            "text/plain": [
              "tensor(46, dtype=torch.uint8)"
            ]
          },
          "metadata": {
            "tags": []
          },
          "execution_count": 38
        }
      ]
    },
    {
      "cell_type": "markdown",
      "metadata": {
        "id": "xfTvWlGFELK1",
        "colab_type": "text"
      },
      "source": [
        "Now, we're doing it for a mean query"
      ]
    },
    {
      "cell_type": "code",
      "metadata": {
        "id": "bj9HFRUZDyii",
        "colab_type": "code",
        "colab": {}
      },
      "source": [
        "def mean_query(db):\n",
        "  return torch.mean(db.float())"
      ],
      "execution_count": 0,
      "outputs": []
    },
    {
      "cell_type": "code",
      "metadata": {
        "id": "RnSFBoweEia5",
        "colab_type": "code",
        "outputId": "f1577e65-b13d-474e-99c3-a6bd75d0baa3",
        "colab": {
          "base_uri": "https://localhost:8080/"
        }
      },
      "source": [
        "laplacian_mechanism(db, mean_query, 1/100)"
      ],
      "execution_count": 0,
      "outputs": [
        {
          "output_type": "execute_result",
          "data": {
            "text/plain": [
              "tensor([0.4518], dtype=torch.float64)"
            ]
          },
          "metadata": {
            "tags": []
          },
          "execution_count": 40
        }
      ]
    },
    {
      "cell_type": "code",
      "metadata": {
        "id": "UjK_DFkvE2ow",
        "colab_type": "code",
        "outputId": "48a2cf94-915e-4668-c9c3-c51816a9de0d",
        "colab": {
          "base_uri": "https://localhost:8080/"
        }
      },
      "source": [
        "mean_query(db)"
      ],
      "execution_count": 0,
      "outputs": [
        {
          "output_type": "execute_result",
          "data": {
            "text/plain": [
              "tensor(0.4600)"
            ]
          },
          "metadata": {
            "tags": []
          },
          "execution_count": 41
        }
      ]
    },
    {
      "cell_type": "code",
      "metadata": {
        "id": "y9m5FCr6E4yT",
        "colab_type": "code",
        "colab": {}
      },
      "source": [
        ""
      ],
      "execution_count": 0,
      "outputs": []
    }
  ]
}